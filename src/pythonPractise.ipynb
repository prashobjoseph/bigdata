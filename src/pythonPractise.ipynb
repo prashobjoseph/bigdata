{
 "cells": [
  {
   "cell_type": "code",
   "execution_count": null,
   "metadata": {},
   "outputs": [
    {
     "name": "stdout",
     "output_type": "stream",
     "text": [
      "spam is 2 and text is i am prashob\n"
     ]
    }
   ],
   "source": [
    "#chapter 3\n",
    "spam=2\n",
    "\n",
    "text= \"i am prashob\"\n",
    "\n",
    "print(f\"spam is {spam} and text is {text}\")"
   ]
  },
  {
   "cell_type": "code",
   "execution_count": null,
   "metadata": {},
   "outputs": [
    {
     "name": "stdout",
     "output_type": "stream",
     "text": [
      "output of division 33.333333333333336 and output of floor division 33\n",
      "4th power of 2 is 16\n",
      "reminder is 2\n",
      "rounded value is 107.23\n"
     ]
    }
   ],
   "source": [
    "#practise mathematics\n",
    "\n",
    "z=100/3\n",
    "w=100//3\n",
    "\n",
    "print(f\"output of division {z} and output of floor division {w}\")\n",
    "\n",
    "p=2**4\n",
    "\n",
    "print(f\"4th power of 2 is {p}\")\n",
    "\n",
    "o=17%3\n",
    "print(f\"reminder is {o}\")\n",
    "\n",
    "print(f\"rounded value is {round(107.23214,2)}\")\n",
    "\n"
   ]
  },
  {
   "cell_type": "code",
   "execution_count": 10,
   "metadata": {},
   "outputs": [
    {
     "name": "stdout",
     "output_type": "stream",
     "text": [
      "to escape single quotes in doesn't or use double quotes\n"
     ]
    }
   ],
   "source": [
    "#escape single quotes\n",
    "\n",
    "print('to escape single quotes in doesn\\'t or use double quotes')"
   ]
  },
  {
   "cell_type": "code",
   "execution_count": null,
   "metadata": {},
   "outputs": [
    {
     "name": "stdout",
     "output_type": "stream",
     "text": [
      "unununium\n",
      "Python\n"
     ]
    },
    {
     "data": {
      "text/plain": [
       "'Python'"
      ]
     },
     "execution_count": 18,
     "metadata": {},
     "output_type": "execute_result"
    }
   ],
   "source": [
    "#strings\n",
    "\n",
    "print(3 * 'un' + 'ium')\n",
    "\n",
    "print('Py' 'thon')\n",
    "\n",
    "word = 'Python'\n",
    "\n",
    "word[0] # p\n",
    "word[-1] #n\n",
    "\n",
    "#slicing\n",
    "word[0:2] #py , characters from position 0 (included) to 2 (excluded)\n",
    "\n",
    "word[:2]   # character from the beginning to position 2 (excluded)\n",
    "\n",
    "word[4:]   # characters from position 4 (included) to the end\n",
    "\n",
    "word[-2:]  # characters from the second-last (included) to the end\n",
    "\n",
    "word[:2] + word[2:] # print python\n",
    "\n",
    "#strings are immutable, cannot be changed, example word[0] = 'J'\n",
    "\n",
    "s = 'supercalifragilisticexpialidocious'\n",
    "\n",
    "len(s) #length of string\n",
    "\n",
    "\n"
   ]
  },
  {
   "cell_type": "code",
   "execution_count": 23,
   "metadata": {},
   "outputs": [
    {
     "data": {
      "text/plain": [
       "'b'"
      ]
     },
     "execution_count": 23,
     "metadata": {},
     "output_type": "execute_result"
    }
   ],
   "source": [
    "#Lists\n",
    "\n",
    "squares = [1, 4, 9, 16, 25]\n",
    "\n",
    "squares[-1] #prints 25\n",
    "\n",
    "squares + [36, 49, 64, 81, 100] # append list\n",
    "\n",
    "squares.append(36) #adds value 36 to list\n",
    "squares\n",
    "\n",
    "#python never copies data, it assigns reference to the variable and changes made reflect accross all variable.\n",
    "\n",
    "letters = ['a', 'b', 'c', 'd', 'e', 'f', 'g']\n",
    "\n",
    "# replace some values\n",
    "letters[2:5] = ['C', 'D', 'E']\n",
    "\n",
    "['a', 'b', 'C', 'D', 'E', 'f', 'g']\n",
    "\n",
    "# now remove them\n",
    "letters[2:5] = []\n",
    "\n",
    "['a', 'b', 'f', 'g']\n",
    "\n",
    "# clear the list by replacing all the elements with an empty list\n",
    "letters[:] = []\n",
    "\n",
    "letters\n",
    "\n",
    "#nest lists\n",
    "\n",
    "a = ['a', 'b', 'c']\n",
    "n = [1, 2, 3]\n",
    "x = [a, n]\n",
    "\n",
    "[['a', 'b', 'c'], [1, 2, 3]] # x\n",
    "\n",
    "x[0]\n",
    "['a', 'b', 'c']\n",
    "\n",
    "x[0][1]\n",
    "\n",
    "'b'\n",
    "\n"
   ]
  },
  {
   "cell_type": "code",
   "execution_count": 24,
   "metadata": {},
   "outputs": [
    {
     "name": "stdout",
     "output_type": "stream",
     "text": [
      "0\n",
      "1\n",
      "1\n",
      "2\n",
      "3\n",
      "5\n",
      "8\n"
     ]
    }
   ],
   "source": [
    "# Fibonacci series:\n",
    "# the sum of two elements defines the next\n",
    "a, b = 0, 1\n",
    "while a < 10:\n",
    "    print(a)\n",
    "    a, b = b, a+b"
   ]
  },
  {
   "cell_type": "code",
   "execution_count": 25,
   "metadata": {},
   "outputs": [
    {
     "name": "stdout",
     "output_type": "stream",
     "text": [
      "0,1,1,2,3,5,8,13,21,34,55,89,144,233,377,610,987,"
     ]
    }
   ],
   "source": [
    "#The keyword argument end can be used to avoid the newline after the output, or end the output with a different string:\n",
    "\n",
    "a, b = 0, 1\n",
    "while a < 1000:\n",
    "    print(a, end=',')\n",
    "    a, b = b, a+b"
   ]
  },
  {
   "cell_type": "code",
   "execution_count": null,
   "metadata": {},
   "outputs": [],
   "source": [
    "#chapter 4 \n",
    "\n",
    "# control flow\n",
    "#if statement\n",
    "\n",
    "x = int(input(\"Please enter an integer: \"))\n",
    "\n",
    "if x < 0:\n",
    "    x = 0\n",
    "    print('Negative changed to zero')\n",
    "elif x == 0:\n",
    "    print('Zero')\n",
    "elif x == 1:\n",
    "    print('Single')\n",
    "else:\n",
    "    print('More')\n"
   ]
  },
  {
   "cell_type": "code",
   "execution_count": 1,
   "metadata": {},
   "outputs": [
    {
     "name": "stdout",
     "output_type": "stream",
     "text": [
      "cat 3\n",
      "window 6\n",
      "defenestrate 12\n"
     ]
    }
   ],
   "source": [
    "# for statement \n",
    "\n",
    "words = ['cat', 'window', 'defenestrate']\n",
    "for w in words:\n",
    "    print(w, len(w))"
   ]
  },
  {
   "cell_type": "code",
   "execution_count": null,
   "metadata": {},
   "outputs": [],
   "source": []
  }
 ],
 "metadata": {
  "kernelspec": {
   "display_name": "Python 3",
   "language": "python",
   "name": "python3"
  },
  "language_info": {
   "codemirror_mode": {
    "name": "ipython",
    "version": 3
   },
   "file_extension": ".py",
   "mimetype": "text/x-python",
   "name": "python",
   "nbconvert_exporter": "python",
   "pygments_lexer": "ipython3",
   "version": "3.11.9"
  }
 },
 "nbformat": 4,
 "nbformat_minor": 2
}
